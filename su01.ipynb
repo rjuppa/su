{
 "cells": [
  {
   "cell_type": "markdown",
   "metadata": {
    "collapsed": true
   },
   "source": [
    "Zadané body aproximujte lineární a kvadratickou funkcí:\n"
   ]
  },
  {
   "cell_type": "code",
   "execution_count": 2,
   "metadata": {},
   "outputs": [
    {
     "data": {
      "image/png": "[encoded data removed]",
      "text/plain": [
       "<Figure size 432x288 with 1 Axes>"
      ]
     },
     "metadata": {
      "needs_background": "light"
     },
     "output_type": "display_data"
    }
   ],
   "source": [
    "import matplotlib.pyplot as plt\n",
    "import numpy as np\n",
    "\n",
    "\n",
    "X = np.array([1, 1, 2, 3])\n",
    "Y = np.array([2, 3, 1, 4])\n",
    "data = zip(X, Y)\n",
    "\n",
    "plt.grid(True)\n",
    "plt.axis([0, 5, 0, 5])\n",
    "\n",
    "for x, y in data:\n",
    "    plt.plot(x, y, marker='x', color='r')\n",
    "\n",
    "plt.show()\n",
    "\n"
   ]
  },
  {
   "cell_type": "markdown",
   "metadata": {},
   "source": [
    "![pic1.png](attachment:pic1.png)"
   ]
  },
  {
   "cell_type": "code",
   "execution_count": 3,
   "metadata": {},
   "outputs": [
    {
     "name": "stdout",
     "output_type": "stream",
     "text": [
      " c1=0.5454545454545457   c0=1.5454545454545447 \n"
     ]
    },
    {
     "data": {
      "image/png": "[encoded data removed]",
      "text/plain": [
       "<Figure size 432x288 with 1 Axes>"
      ]
     },
     "metadata": {
      "needs_background": "light"
     },
     "output_type": "display_data"
    }
   ],
   "source": [
    "import matplotlib.pyplot as plt\n",
    "import numpy as np\n",
    "\n",
    "\n",
    "def predict_y(x, c0, c1):\n",
    "    return c0 + x * c1\n",
    "\n",
    "\n",
    "def draw_line(c0, c1):\n",
    "    x0 = 0\n",
    "    y0 = predict_y(x0, c0, c1)\n",
    "    x1 = 4\n",
    "    y1 = predict_y(x1, c0, c1)\n",
    "    plt.plot([x0, x1], [y0, y1], color=\"r\")\n",
    "\n",
    "    \n",
    "X = np.array([1, 1, 2, 3])\n",
    "Y = np.array([2, 3, 1, 4])\n",
    "data = zip(X, Y)\n",
    "\n",
    "sum_x = np.sum(X)                          # 7\n",
    "sum_x2 = np.sum(X**2)                      # 15\n",
    "sum_y = np.sum(Y)                          # 10\n",
    "sum_xy = np.sum([X*Y])  # 19\n",
    "n = len(X)                                 # 4\n",
    "\n",
    "# c1*sum_x2 + c0*sum_x = sum_xy\n",
    "# c1*sum_x  + c0*n     = sum_y\n",
    "\n",
    "# 15c1 + 7c0 = 19\n",
    "# 7c1  + 4c0 = 10\n",
    "# ---------------\n",
    "\n",
    "# c0 = 1.54\n",
    "# c1 = 0,55\n",
    "\n",
    "A = np.array([[sum_x2, sum_x], [sum_x, n]])\n",
    "b = np.array([sum_xy, sum_y])\n",
    "c = np.linalg.solve(A, b)\n",
    "print(f\" c1={c[0]}   c0={c[1]} \")\n",
    "\n",
    "# Draw\n",
    "plt.grid(True)\n",
    "plt.axis([0, 5, 0, 5])\n",
    "X = np.array([1, 1, 2, 3])\n",
    "Y = np.array([2, 3, 1, 4])\n",
    "data = zip(X, Y)\n",
    "for x, y in data:\n",
    "    plt.plot(x, y, marker='x', color='r')\n",
    "draw_line(c[1], c[0])\n",
    "plt.show()"
   ]
  },
  {
   "cell_type": "markdown",
   "metadata": {},
   "source": [
    "![pic2.png](attachment:pic2.png)"
   ]
  },
  {
   "cell_type": "code",
   "execution_count": 45,
   "metadata": {},
   "outputs": [
    {
     "name": "stdout",
     "output_type": "stream",
     "text": [
      " c0=8.499999999999718   c1=-8.249999999999659    c2=2.249999999999915\n"
     ]
    },
    {
     "data": {
      "image/png": "[encoded data removed]",
      "text/plain": [
       "<Figure size 432x288 with 1 Axes>"
      ]
     },
     "metadata": {
      "needs_background": "light"
     },
     "output_type": "display_data"
    }
   ],
   "source": [
    "def predict_y2(x, c0, c1, c2):\n",
    "    return c0 + x * c1 + x**2 * c2\n",
    "\n",
    "\n",
    "def draw_quad(t1, c0, c1, c2):\n",
    "    plt.plot(t1, predict_y2(t1, c0, c1, c2), color=\"r\")\n",
    "\n",
    "    \n",
    "X = np.array([1, 1, 2, 3])\n",
    "Y = np.array([2, 3, 1, 4])\n",
    "data = zip(X, Y)\n",
    "\n",
    "sum_x = np.sum(X)                          \n",
    "sum_x2 = np.sum(X**2)                      \n",
    "sum_y = np.sum(Y)                          \n",
    "sum_xy = np.sum([x * y for x, y in data])  \n",
    "n = len(X)                                 \n",
    "\n",
    "A = np.array([[n, np.sum(X), np.sum(X**2)], [np.sum(X), np.sum(X**2), np.sum(X**3)], [np.sum(X**2), np.sum(X**3), np.sum(X**4)]])\n",
    "b = np.array([np.sum([Y]), np.sum([X*Y]), np.sum([X**2*Y])])\n",
    "c = np.linalg.solve(A, b)\n",
    "print(f\" c0={c[0]}   c1={c[1]}    c2={c[2]}\")\n",
    "\n",
    "# Draw\n",
    "plt.grid(True)\n",
    "plt.axis([0, 5, 0, 5])\n",
    "X = np.array([1, 1, 2, 3])\n",
    "Y = np.array([2, 3, 1, 4])\n",
    "data = zip(X, Y)\n",
    "for x, y in data:\n",
    "    plt.plot(x, y, marker='x', color='r')\n",
    "    \n",
    "t1 = np.arange(0.0, 5.0, 0.1)\n",
    "draw_quad(t1, c[0], c[1], c[2])\n",
    "plt.show()\n",
    "\n"
   ]
  },
  {
   "cell_type": "code",
   "execution_count": null,
   "metadata": {},
   "outputs": [],
   "source": []
  }
 ],
 "metadata": {
  "kernelspec": {
   "display_name": "Python 3",
   "language": "python",
   "name": "python3"
  },
  "language_info": {
   "codemirror_mode": {
    "name": "ipython",
    "version": 3
   },
   "file_extension": ".py",
   "mimetype": "text/x-python",
   "name": "python",
   "nbconvert_exporter": "python",
   "pygments_lexer": "ipython3",
   "version": "3.6.0"
  }
 },
 "nbformat": 4,
 "nbformat_minor": 1
}
